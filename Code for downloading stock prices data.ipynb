{
 "cells": [
  {
   "cell_type": "code",
   "execution_count": 1,
   "metadata": {
    "scrolled": true
   },
   "outputs": [
    {
     "name": "stdout",
     "output_type": "stream",
     "text": [
      "Requirement already satisfied: pandas_datareader in c:\\users\\az\\anaconda3\\lib\\site-packages (0.8.1)\n",
      "Requirement already satisfied: requests>=2.3.0 in c:\\users\\az\\anaconda3\\lib\\site-packages (from pandas_datareader) (2.18.4)\n",
      "Requirement already satisfied: pandas>=0.21 in c:\\users\\az\\anaconda3\\lib\\site-packages (from pandas_datareader) (0.24.2)\n",
      "Requirement already satisfied: lxml in c:\\users\\az\\anaconda3\\lib\\site-packages (from pandas_datareader) (4.3.2)\n",
      "Requirement already satisfied: idna<2.7,>=2.5 in c:\\users\\az\\anaconda3\\lib\\site-packages (from requests>=2.3.0->pandas_datareader) (2.6)\n",
      "Requirement already satisfied: urllib3<1.23,>=1.21.1 in c:\\users\\az\\anaconda3\\lib\\site-packages (from requests>=2.3.0->pandas_datareader) (1.22)\n",
      "Requirement already satisfied: certifi>=2017.4.17 in c:\\users\\az\\anaconda3\\lib\\site-packages (from requests>=2.3.0->pandas_datareader) (2019.3.9)\n",
      "Requirement already satisfied: chardet<3.1.0,>=3.0.2 in c:\\users\\az\\anaconda3\\lib\\site-packages (from requests>=2.3.0->pandas_datareader) (3.0.4)\n",
      "Requirement already satisfied: pytz>=2011k in c:\\users\\az\\anaconda3\\lib\\site-packages (from pandas>=0.21->pandas_datareader) (2018.9)\n",
      "Requirement already satisfied: numpy>=1.12.0 in c:\\users\\az\\anaconda3\\lib\\site-packages (from pandas>=0.21->pandas_datareader) (1.16.2)\n",
      "Requirement already satisfied: python-dateutil>=2.5.0 in c:\\users\\az\\anaconda3\\lib\\site-packages (from pandas>=0.21->pandas_datareader) (2.8.0)\n",
      "Requirement already satisfied: six>=1.5 in c:\\users\\az\\anaconda3\\lib\\site-packages (from python-dateutil>=2.5.0->pandas>=0.21->pandas_datareader) (1.12.0)\n"
     ]
    }
   ],
   "source": [
    "!pip install pandas_datareader"
   ]
  },
  {
   "cell_type": "code",
   "execution_count": 2,
   "metadata": {},
   "outputs": [],
   "source": [
    "#import external pandas_datareader library with alias of web\n",
    "import pandas_datareader as web\n",
    " \n",
    "#import datetime internal datetime module (a Python module)\n",
    "import datetime as dt"
   ]
  },
  {
   "cell_type": "code",
   "execution_count": 4,
   "metadata": {},
   "outputs": [],
   "source": [
    "#dt.datetime is a data type within the datetime module\n",
    "start = dt.datetime(2000, 1, 1)\n",
    "end = dt.datetime(2019, 10, 20)"
   ]
  },
  {
   "cell_type": "code",
   "execution_count": 5,
   "metadata": {},
   "outputs": [],
   "source": [
    "#DataReader method name is case sensitive\n",
    "df_apple = web.DataReader(\"aapl\", 'yahoo', start, end)\n",
    " \n",
    "#invoke to_csv for df dataframe object from \n",
    "#DataReader method in the pandas_datareader library \n",
    " \n",
    "df_apple.to_csv('Apple_stock_prices_volumes_to_csv.csv')"
   ]
  },
  {
   "cell_type": "code",
   "execution_count": 6,
   "metadata": {},
   "outputs": [],
   "source": [
    "df_microsoft = web.DataReader(\"msft\", 'yahoo', start, end)\n",
    "df_microsoft.to_csv('Microsoft_stock_prices_volumes_to_csv.csv')"
   ]
  },
  {
   "cell_type": "code",
   "execution_count": 16,
   "metadata": {},
   "outputs": [
    {
     "data": {
      "text/html": [
       "<div>\n",
       "<style scoped>\n",
       "    .dataframe tbody tr th:only-of-type {\n",
       "        vertical-align: middle;\n",
       "    }\n",
       "\n",
       "    .dataframe tbody tr th {\n",
       "        vertical-align: top;\n",
       "    }\n",
       "\n",
       "    .dataframe thead th {\n",
       "        text-align: right;\n",
       "    }\n",
       "</style>\n",
       "<table border=\"1\" class=\"dataframe\">\n",
       "  <thead>\n",
       "    <tr style=\"text-align: right;\">\n",
       "      <th></th>\n",
       "      <th>High</th>\n",
       "      <th>Low</th>\n",
       "      <th>Open</th>\n",
       "      <th>Close</th>\n",
       "      <th>Volume</th>\n",
       "      <th>Adj Close</th>\n",
       "    </tr>\n",
       "    <tr>\n",
       "      <th>Date</th>\n",
       "      <th></th>\n",
       "      <th></th>\n",
       "      <th></th>\n",
       "      <th></th>\n",
       "      <th></th>\n",
       "      <th></th>\n",
       "    </tr>\n",
       "  </thead>\n",
       "  <tbody>\n",
       "    <tr>\n",
       "      <th>2000-10-02</th>\n",
       "      <td>30.40625</td>\n",
       "      <td>29.125</td>\n",
       "      <td>30.25000</td>\n",
       "      <td>29.56250</td>\n",
       "      <td>58562400.0</td>\n",
       "      <td>19.083975</td>\n",
       "    </tr>\n",
       "    <tr>\n",
       "      <th>2000-10-03</th>\n",
       "      <td>29.90625</td>\n",
       "      <td>28.250</td>\n",
       "      <td>29.78125</td>\n",
       "      <td>28.28125</td>\n",
       "      <td>85374000.0</td>\n",
       "      <td>18.256872</td>\n",
       "    </tr>\n",
       "    <tr>\n",
       "      <th>2000-10-04</th>\n",
       "      <td>28.28125</td>\n",
       "      <td>27.250</td>\n",
       "      <td>28.18750</td>\n",
       "      <td>27.71875</td>\n",
       "      <td>136453400.0</td>\n",
       "      <td>17.893749</td>\n",
       "    </tr>\n",
       "    <tr>\n",
       "      <th>2000-10-05</th>\n",
       "      <td>28.62500</td>\n",
       "      <td>27.625</td>\n",
       "      <td>27.75000</td>\n",
       "      <td>27.68750</td>\n",
       "      <td>81099400.0</td>\n",
       "      <td>17.873575</td>\n",
       "    </tr>\n",
       "    <tr>\n",
       "      <th>2000-10-06</th>\n",
       "      <td>28.37500</td>\n",
       "      <td>27.375</td>\n",
       "      <td>27.90625</td>\n",
       "      <td>27.78125</td>\n",
       "      <td>61794000.0</td>\n",
       "      <td>17.934093</td>\n",
       "    </tr>\n",
       "  </tbody>\n",
       "</table>\n",
       "</div>"
      ],
      "text/plain": [
       "                High     Low      Open     Close       Volume  Adj Close\n",
       "Date                                                                    \n",
       "2000-10-02  30.40625  29.125  30.25000  29.56250   58562400.0  19.083975\n",
       "2000-10-03  29.90625  28.250  29.78125  28.28125   85374000.0  18.256872\n",
       "2000-10-04  28.28125  27.250  28.18750  27.71875  136453400.0  17.893749\n",
       "2000-10-05  28.62500  27.625  27.75000  27.68750   81099400.0  17.873575\n",
       "2000-10-06  28.37500  27.375  27.90625  27.78125   61794000.0  17.934093"
      ]
     },
     "execution_count": 16,
     "metadata": {},
     "output_type": "execute_result"
    }
   ],
   "source": [
    "df_microsoft.head()"
   ]
  },
  {
   "cell_type": "code",
   "execution_count": 15,
   "metadata": {},
   "outputs": [
    {
     "data": {
      "text/plain": [
       "High         float64\n",
       "Low          float64\n",
       "Open         float64\n",
       "Close        float64\n",
       "Volume       float64\n",
       "Adj Close    float64\n",
       "dtype: object"
      ]
     },
     "execution_count": 15,
     "metadata": {},
     "output_type": "execute_result"
    }
   ],
   "source": [
    "df_microsoft.dtypes"
   ]
  }
 ],
 "metadata": {
  "kernelspec": {
   "display_name": "Python 3",
   "language": "python",
   "name": "python3"
  },
  "language_info": {
   "codemirror_mode": {
    "name": "ipython",
    "version": 3
   },
   "file_extension": ".py",
   "mimetype": "text/x-python",
   "name": "python",
   "nbconvert_exporter": "python",
   "pygments_lexer": "ipython3",
   "version": "3.7.3"
  }
 },
 "nbformat": 4,
 "nbformat_minor": 2
}
