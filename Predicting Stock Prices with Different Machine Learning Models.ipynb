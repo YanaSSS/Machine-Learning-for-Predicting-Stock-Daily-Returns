{
 "cells": [
  {
   "cell_type": "markdown",
   "metadata": {},
   "source": [
    "# Predicting Stock Prices with Different Machine Learning Models"
   ]
  },
  {
   "cell_type": "code",
   "execution_count": 1,
   "metadata": {},
   "outputs": [],
   "source": [
    "%matplotlib inline"
   ]
  },
  {
   "cell_type": "code",
   "execution_count": 2,
   "metadata": {},
   "outputs": [],
   "source": [
    "#standard imports for calculations, dataframes work and plotting - check this again\n",
    "import numpy as np\n",
    "import pandas as pd\n",
    "import matplotlib.pyplot as plt\n",
    "\n",
    "#holidays handling\n",
    "from pandas.tseries.offsets import BDay"
   ]
  },
  {
   "cell_type": "code",
   "execution_count": 3,
   "metadata": {},
   "outputs": [],
   "source": [
    "#Reading our data\n",
    "microsoft_prices = pd.read_csv(\"microsoft_stock_prices.csv\")"
   ]
  },
  {
   "cell_type": "markdown",
   "metadata": {},
   "source": [
    "Below take a look at the data"
   ]
  },
  {
   "cell_type": "code",
   "execution_count": 4,
   "metadata": {},
   "outputs": [
    {
     "data": {
      "text/html": [
       "<div>\n",
       "<style scoped>\n",
       "    .dataframe tbody tr th:only-of-type {\n",
       "        vertical-align: middle;\n",
       "    }\n",
       "\n",
       "    .dataframe tbody tr th {\n",
       "        vertical-align: top;\n",
       "    }\n",
       "\n",
       "    .dataframe thead th {\n",
       "        text-align: right;\n",
       "    }\n",
       "</style>\n",
       "<table border=\"1\" class=\"dataframe\">\n",
       "  <thead>\n",
       "    <tr style=\"text-align: right;\">\n",
       "      <th></th>\n",
       "      <th>Date</th>\n",
       "      <th>High</th>\n",
       "      <th>Low</th>\n",
       "      <th>Open</th>\n",
       "      <th>Close</th>\n",
       "      <th>Volume</th>\n",
       "      <th>Adj Close</th>\n",
       "    </tr>\n",
       "  </thead>\n",
       "  <tbody>\n",
       "    <tr>\n",
       "      <th>0</th>\n",
       "      <td>2000-01-03</td>\n",
       "      <td>59.3125</td>\n",
       "      <td>56.00000</td>\n",
       "      <td>58.68750</td>\n",
       "      <td>58.28125</td>\n",
       "      <td>53228400.0</td>\n",
       "      <td>37.623280</td>\n",
       "    </tr>\n",
       "    <tr>\n",
       "      <th>1</th>\n",
       "      <td>2000-01-04</td>\n",
       "      <td>58.5625</td>\n",
       "      <td>56.12500</td>\n",
       "      <td>56.78125</td>\n",
       "      <td>56.31250</td>\n",
       "      <td>54119000.0</td>\n",
       "      <td>36.352352</td>\n",
       "    </tr>\n",
       "    <tr>\n",
       "      <th>2</th>\n",
       "      <td>2000-01-05</td>\n",
       "      <td>58.1875</td>\n",
       "      <td>54.68750</td>\n",
       "      <td>55.56250</td>\n",
       "      <td>56.90625</td>\n",
       "      <td>64059600.0</td>\n",
       "      <td>36.735657</td>\n",
       "    </tr>\n",
       "    <tr>\n",
       "      <th>3</th>\n",
       "      <td>2000-01-06</td>\n",
       "      <td>56.9375</td>\n",
       "      <td>54.18750</td>\n",
       "      <td>56.09375</td>\n",
       "      <td>55.00000</td>\n",
       "      <td>54976600.0</td>\n",
       "      <td>35.505081</td>\n",
       "    </tr>\n",
       "    <tr>\n",
       "      <th>4</th>\n",
       "      <td>2000-01-07</td>\n",
       "      <td>56.1250</td>\n",
       "      <td>53.65625</td>\n",
       "      <td>54.31250</td>\n",
       "      <td>55.71875</td>\n",
       "      <td>62013600.0</td>\n",
       "      <td>35.969063</td>\n",
       "    </tr>\n",
       "  </tbody>\n",
       "</table>\n",
       "</div>"
      ],
      "text/plain": [
       "         Date     High       Low      Open     Close      Volume  Adj Close\n",
       "0  2000-01-03  59.3125  56.00000  58.68750  58.28125  53228400.0  37.623280\n",
       "1  2000-01-04  58.5625  56.12500  56.78125  56.31250  54119000.0  36.352352\n",
       "2  2000-01-05  58.1875  54.68750  55.56250  56.90625  64059600.0  36.735657\n",
       "3  2000-01-06  56.9375  54.18750  56.09375  55.00000  54976600.0  35.505081\n",
       "4  2000-01-07  56.1250  53.65625  54.31250  55.71875  62013600.0  35.969063"
      ]
     },
     "execution_count": 4,
     "metadata": {},
     "output_type": "execute_result"
    }
   ],
   "source": [
    "microsoft_prices.head()\n",
    "#explain columns, terminology, time series definition, stocks for sure"
   ]
  },
  {
   "cell_type": "code",
   "execution_count": 5,
   "metadata": {},
   "outputs": [
    {
     "data": {
      "text/plain": [
       "(4981, 7)"
      ]
     },
     "execution_count": 5,
     "metadata": {},
     "output_type": "execute_result"
    }
   ],
   "source": [
    "microsoft_prices.shape"
   ]
  },
  {
   "cell_type": "code",
   "execution_count": 6,
   "metadata": {},
   "outputs": [],
   "source": [
    "#Since the date columns is object, we will transform it into a datetime format, before we proceed further\n",
    "microsoft_prices.Date = pd.to_datetime(microsoft_prices.Date)"
   ]
  },
  {
   "cell_type": "code",
   "execution_count": 7,
   "metadata": {},
   "outputs": [
    {
     "data": {
      "text/plain": [
       "(4981,)"
      ]
     },
     "execution_count": 7,
     "metadata": {},
     "output_type": "execute_result"
    }
   ],
   "source": [
    "#since we don't know if only business days are included we will have to make another check\n",
    "isBusinessDay = BDay().onOffset\n",
    "microsoft_business_days_check = pd.to_datetime(microsoft_prices.Date).map(isBusinessDay)\n",
    "microsoft_business_days_check.shape"
   ]
  },
  {
   "cell_type": "code",
   "execution_count": 8,
   "metadata": {},
   "outputs": [
    {
     "data": {
      "text/plain": [
       "array([ True])"
      ]
     },
     "execution_count": 8,
     "metadata": {},
     "output_type": "execute_result"
    }
   ],
   "source": [
    "microsoft_business_days_check.unique()"
   ]
  },
  {
   "cell_type": "code",
   "execution_count": 9,
   "metadata": {},
   "outputs": [],
   "source": [
    "microsoft_prices = microsoft_prices.set_index(\"Date\")"
   ]
  },
  {
   "cell_type": "code",
   "execution_count": 10,
   "metadata": {},
   "outputs": [
    {
     "data": {
      "text/plain": [
       "2008    253\n",
       "2000    252\n",
       "2005    252\n",
       "2011    252\n",
       "2004    252\n",
       "2003    252\n",
       "2014    252\n",
       "2010    252\n",
       "2016    252\n",
       "2002    252\n",
       "2015    252\n",
       "2013    252\n",
       "2009    252\n",
       "2017    251\n",
       "2006    251\n",
       "2018    251\n",
       "2007    251\n",
       "2012    250\n",
       "2001    248\n",
       "2019    202\n",
       "Name: Date, dtype: int64"
      ]
     },
     "execution_count": 10,
     "metadata": {},
     "output_type": "execute_result"
    }
   ],
   "source": [
    "#The time series we have downloaded do not include holidays. Years have different count of working days \n",
    "#but this is normal because holiday days are on different day every year\n",
    "microsoft_prices.index.year.value_counts()"
   ]
  },
  {
   "cell_type": "code",
   "execution_count": 11,
   "metadata": {},
   "outputs": [],
   "source": [
    "#microsoft_prices.loc[\"2010\"].count()"
   ]
  },
  {
   "cell_type": "code",
   "execution_count": 12,
   "metadata": {},
   "outputs": [],
   "source": [
    "microsoft_prices = microsoft_prices.rename(columns = {\"Adj Close\": \"Adj_close\"})"
   ]
  },
  {
   "cell_type": "code",
   "execution_count": 13,
   "metadata": {},
   "outputs": [],
   "source": [
    "microsoft_prices = microsoft_prices.round({\"High\":2, \"Low\":2, \"Open\":2, \"Close\":2, \"Adj_close\":2})"
   ]
  },
  {
   "cell_type": "code",
   "execution_count": 14,
   "metadata": {},
   "outputs": [
    {
     "data": {
      "text/html": [
       "<div>\n",
       "<style scoped>\n",
       "    .dataframe tbody tr th:only-of-type {\n",
       "        vertical-align: middle;\n",
       "    }\n",
       "\n",
       "    .dataframe tbody tr th {\n",
       "        vertical-align: top;\n",
       "    }\n",
       "\n",
       "    .dataframe thead th {\n",
       "        text-align: right;\n",
       "    }\n",
       "</style>\n",
       "<table border=\"1\" class=\"dataframe\">\n",
       "  <thead>\n",
       "    <tr style=\"text-align: right;\">\n",
       "      <th></th>\n",
       "      <th>High</th>\n",
       "      <th>Low</th>\n",
       "      <th>Open</th>\n",
       "      <th>Close</th>\n",
       "      <th>Volume</th>\n",
       "      <th>Adj_close</th>\n",
       "    </tr>\n",
       "    <tr>\n",
       "      <th>Date</th>\n",
       "      <th></th>\n",
       "      <th></th>\n",
       "      <th></th>\n",
       "      <th></th>\n",
       "      <th></th>\n",
       "      <th></th>\n",
       "    </tr>\n",
       "  </thead>\n",
       "  <tbody>\n",
       "    <tr>\n",
       "      <th>2000-01-03</th>\n",
       "      <td>59.31</td>\n",
       "      <td>56.00</td>\n",
       "      <td>58.69</td>\n",
       "      <td>58.28</td>\n",
       "      <td>53228400.0</td>\n",
       "      <td>37.62</td>\n",
       "    </tr>\n",
       "    <tr>\n",
       "      <th>2000-01-04</th>\n",
       "      <td>58.56</td>\n",
       "      <td>56.12</td>\n",
       "      <td>56.78</td>\n",
       "      <td>56.31</td>\n",
       "      <td>54119000.0</td>\n",
       "      <td>36.35</td>\n",
       "    </tr>\n",
       "    <tr>\n",
       "      <th>2000-01-05</th>\n",
       "      <td>58.19</td>\n",
       "      <td>54.69</td>\n",
       "      <td>55.56</td>\n",
       "      <td>56.91</td>\n",
       "      <td>64059600.0</td>\n",
       "      <td>36.74</td>\n",
       "    </tr>\n",
       "    <tr>\n",
       "      <th>2000-01-06</th>\n",
       "      <td>56.94</td>\n",
       "      <td>54.19</td>\n",
       "      <td>56.09</td>\n",
       "      <td>55.00</td>\n",
       "      <td>54976600.0</td>\n",
       "      <td>35.51</td>\n",
       "    </tr>\n",
       "    <tr>\n",
       "      <th>2000-01-07</th>\n",
       "      <td>56.12</td>\n",
       "      <td>53.66</td>\n",
       "      <td>54.31</td>\n",
       "      <td>55.72</td>\n",
       "      <td>62013600.0</td>\n",
       "      <td>35.97</td>\n",
       "    </tr>\n",
       "  </tbody>\n",
       "</table>\n",
       "</div>"
      ],
      "text/plain": [
       "             High    Low   Open  Close      Volume  Adj_close\n",
       "Date                                                         \n",
       "2000-01-03  59.31  56.00  58.69  58.28  53228400.0      37.62\n",
       "2000-01-04  58.56  56.12  56.78  56.31  54119000.0      36.35\n",
       "2000-01-05  58.19  54.69  55.56  56.91  64059600.0      36.74\n",
       "2000-01-06  56.94  54.19  56.09  55.00  54976600.0      35.51\n",
       "2000-01-07  56.12  53.66  54.31  55.72  62013600.0      35.97"
      ]
     },
     "execution_count": 14,
     "metadata": {},
     "output_type": "execute_result"
    }
   ],
   "source": [
    "microsoft_prices.head()"
   ]
  },
  {
   "cell_type": "code",
   "execution_count": 15,
   "metadata": {},
   "outputs": [
    {
     "name": "stdout",
     "output_type": "stream",
     "text": [
      "<class 'pandas.core.frame.DataFrame'>\n",
      "DatetimeIndex: 4981 entries, 2000-01-03 to 2019-10-18\n",
      "Data columns (total 6 columns):\n",
      "High         4981 non-null float64\n",
      "Low          4981 non-null float64\n",
      "Open         4981 non-null float64\n",
      "Close        4981 non-null float64\n",
      "Volume       4981 non-null float64\n",
      "Adj_close    4981 non-null float64\n",
      "dtypes: float64(6)\n",
      "memory usage: 272.4 KB\n"
     ]
    }
   ],
   "source": [
    "microsoft_prices.info()\n",
    "#no null values"
   ]
  },
  {
   "cell_type": "code",
   "execution_count": 16,
   "metadata": {},
   "outputs": [
    {
     "name": "stderr",
     "output_type": "stream",
     "text": [
      "C:\\Users\\Az\\Anaconda3\\lib\\site-packages\\pandas\\plotting\\_converter.py:129: FutureWarning: Using an implicitly registered datetime converter for a matplotlib plotting method. The converter was registered by pandas on import. Future versions of pandas will require you to explicitly register matplotlib converters.\n",
      "\n",
      "To register the converters:\n",
      "\t>>> from pandas.plotting import register_matplotlib_converters\n",
      "\t>>> register_matplotlib_converters()\n",
      "  warnings.warn(msg, FutureWarning)\n"
     ]
    },
    {
     "data": {
      "image/png": "[encoded data removed]",
      "text/plain": [
       "<Figure size 1152x576 with 1 Axes>"
      ]
     },
     "metadata": {
      "needs_background": "light"
     },
     "output_type": "display_data"
    }
   ],
   "source": [
    "plt.figure(figsize = (16,8), linewidth=3, frameon = False)\n",
    "plt.rcParams.update({'font.size': 14})\n",
    "plt.plot(microsoft_prices[\"Adj_close\"], color = \"purple\")\n",
    "plt.title(\"Microsoft Adjusted closed prices (2000-09-30 to 2019-09-30)\")\n",
    "plt.xlabel('Year')\n",
    "plt.ylabel(\"Price ($)\")\n",
    "plt.legend([\"Microsoft Stock Price\"], loc = \"best\")\n",
    "plt.grid(True)\n",
    "plt.show()"
   ]
  },
  {
   "cell_type": "code",
   "execution_count": 17,
   "metadata": {},
   "outputs": [],
   "source": [
    "#microsoft_prices.describe().T"
   ]
  }
 ],
 "metadata": {
  "kernelspec": {
   "display_name": "Python 3",
   "language": "python",
   "name": "python3"
  },
  "language_info": {
   "codemirror_mode": {
    "name": "ipython",
    "version": 3
   },
   "file_extension": ".py",
   "mimetype": "text/x-python",
   "name": "python",
   "nbconvert_exporter": "python",
   "pygments_lexer": "ipython3",
   "version": "3.7.3"
  }
 },
 "nbformat": 4,
 "nbformat_minor": 2
}
