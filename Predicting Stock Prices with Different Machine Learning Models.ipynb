{
 "cells": [
  {
   "cell_type": "markdown",
   "metadata": {},
   "source": [
    "# Predicting Stock Prices with Different Machine Learning Models"
   ]
  },
  {
   "cell_type": "code",
   "execution_count": 1,
   "metadata": {},
   "outputs": [],
   "source": [
    "%matplotlib inline"
   ]
  },
  {
   "cell_type": "code",
   "execution_count": 29,
   "metadata": {},
   "outputs": [],
   "source": [
    "#standard imports for calculations, dataframes work and plotting - check this again\n",
    "import numpy as np\n",
    "import pandas as pd\n",
    "import matplotlib.pyplot as plt\n",
    "from mpl_toolkits.axes_grid1.inset_locator import zoomed_inset_axes\n",
    "import seaborn as sns\n",
    "\n",
    "#holidays handling\n",
    "from pandas.tseries.offsets import BDay\n",
    "\n",
    "np.random.seed(2209)"
   ]
  },
  {
   "cell_type": "code",
   "execution_count": 3,
   "metadata": {},
   "outputs": [],
   "source": [
    "#Reading our data\n",
    "microsoft_prices = pd.read_csv(\"microsoft_stock_prices.csv\")"
   ]
  },
  {
   "cell_type": "markdown",
   "metadata": {},
   "source": [
    "Below take a look at the data\n",
    "\n",
    "### All models are wrong but some are useful! "
   ]
  },
  {
   "cell_type": "code",
   "execution_count": 4,
   "metadata": {},
   "outputs": [
    {
     "data": {
      "text/html": [
       "<div>\n",
       "<style scoped>\n",
       "    .dataframe tbody tr th:only-of-type {\n",
       "        vertical-align: middle;\n",
       "    }\n",
       "\n",
       "    .dataframe tbody tr th {\n",
       "        vertical-align: top;\n",
       "    }\n",
       "\n",
       "    .dataframe thead th {\n",
       "        text-align: right;\n",
       "    }\n",
       "</style>\n",
       "<table border=\"1\" class=\"dataframe\">\n",
       "  <thead>\n",
       "    <tr style=\"text-align: right;\">\n",
       "      <th></th>\n",
       "      <th>Date</th>\n",
       "      <th>High</th>\n",
       "      <th>Low</th>\n",
       "      <th>Open</th>\n",
       "      <th>Close</th>\n",
       "      <th>Volume</th>\n",
       "      <th>Adj Close</th>\n",
       "    </tr>\n",
       "  </thead>\n",
       "  <tbody>\n",
       "    <tr>\n",
       "      <th>0</th>\n",
       "      <td>2000-01-03</td>\n",
       "      <td>59.3125</td>\n",
       "      <td>56.00000</td>\n",
       "      <td>58.68750</td>\n",
       "      <td>58.28125</td>\n",
       "      <td>53228400.0</td>\n",
       "      <td>37.623280</td>\n",
       "    </tr>\n",
       "    <tr>\n",
       "      <th>1</th>\n",
       "      <td>2000-01-04</td>\n",
       "      <td>58.5625</td>\n",
       "      <td>56.12500</td>\n",
       "      <td>56.78125</td>\n",
       "      <td>56.31250</td>\n",
       "      <td>54119000.0</td>\n",
       "      <td>36.352352</td>\n",
       "    </tr>\n",
       "    <tr>\n",
       "      <th>2</th>\n",
       "      <td>2000-01-05</td>\n",
       "      <td>58.1875</td>\n",
       "      <td>54.68750</td>\n",
       "      <td>55.56250</td>\n",
       "      <td>56.90625</td>\n",
       "      <td>64059600.0</td>\n",
       "      <td>36.735657</td>\n",
       "    </tr>\n",
       "    <tr>\n",
       "      <th>3</th>\n",
       "      <td>2000-01-06</td>\n",
       "      <td>56.9375</td>\n",
       "      <td>54.18750</td>\n",
       "      <td>56.09375</td>\n",
       "      <td>55.00000</td>\n",
       "      <td>54976600.0</td>\n",
       "      <td>35.505081</td>\n",
       "    </tr>\n",
       "    <tr>\n",
       "      <th>4</th>\n",
       "      <td>2000-01-07</td>\n",
       "      <td>56.1250</td>\n",
       "      <td>53.65625</td>\n",
       "      <td>54.31250</td>\n",
       "      <td>55.71875</td>\n",
       "      <td>62013600.0</td>\n",
       "      <td>35.969063</td>\n",
       "    </tr>\n",
       "  </tbody>\n",
       "</table>\n",
       "</div>"
      ],
      "text/plain": [
       "         Date     High       Low      Open     Close      Volume  Adj Close\n",
       "0  2000-01-03  59.3125  56.00000  58.68750  58.28125  53228400.0  37.623280\n",
       "1  2000-01-04  58.5625  56.12500  56.78125  56.31250  54119000.0  36.352352\n",
       "2  2000-01-05  58.1875  54.68750  55.56250  56.90625  64059600.0  36.735657\n",
       "3  2000-01-06  56.9375  54.18750  56.09375  55.00000  54976600.0  35.505081\n",
       "4  2000-01-07  56.1250  53.65625  54.31250  55.71875  62013600.0  35.969063"
      ]
     },
     "execution_count": 4,
     "metadata": {},
     "output_type": "execute_result"
    }
   ],
   "source": [
    "microsoft_prices.head()\n",
    "#explain columns, terminology, time series definition, stocks for sure"
   ]
  },
  {
   "cell_type": "code",
   "execution_count": 5,
   "metadata": {},
   "outputs": [
    {
     "data": {
      "text/plain": [
       "(4981, 7)"
      ]
     },
     "execution_count": 5,
     "metadata": {},
     "output_type": "execute_result"
    }
   ],
   "source": [
    "microsoft_prices.shape"
   ]
  },
  {
   "cell_type": "code",
   "execution_count": 6,
   "metadata": {},
   "outputs": [],
   "source": [
    "#Since the date columns is object, we will transform it into a datetime format, before we proceed further\n",
    "microsoft_prices.Date = pd.to_datetime(microsoft_prices.Date)"
   ]
  },
  {
   "cell_type": "code",
   "execution_count": 7,
   "metadata": {},
   "outputs": [
    {
     "data": {
      "text/plain": [
       "(4981,)"
      ]
     },
     "execution_count": 7,
     "metadata": {},
     "output_type": "execute_result"
    }
   ],
   "source": [
    "#since we don't know if only business days are included we will have to make another check\n",
    "isBusinessDay = BDay().onOffset\n",
    "microsoft_business_days_check = pd.to_datetime(microsoft_prices.Date).map(isBusinessDay)\n",
    "microsoft_business_days_check.shape"
   ]
  },
  {
   "cell_type": "code",
   "execution_count": 8,
   "metadata": {},
   "outputs": [
    {
     "data": {
      "text/plain": [
       "array([ True])"
      ]
     },
     "execution_count": 8,
     "metadata": {},
     "output_type": "execute_result"
    }
   ],
   "source": [
    "microsoft_business_days_check.unique()"
   ]
  },
  {
   "cell_type": "code",
   "execution_count": 9,
   "metadata": {},
   "outputs": [],
   "source": [
    "microsoft_prices = microsoft_prices.set_index(\"Date\")"
   ]
  },
  {
   "cell_type": "code",
   "execution_count": 10,
   "metadata": {},
   "outputs": [
    {
     "data": {
      "text/plain": [
       "2008    253\n",
       "2000    252\n",
       "2005    252\n",
       "2011    252\n",
       "2004    252\n",
       "2003    252\n",
       "2014    252\n",
       "2010    252\n",
       "2016    252\n",
       "2002    252\n",
       "2015    252\n",
       "2013    252\n",
       "2009    252\n",
       "2017    251\n",
       "2006    251\n",
       "2018    251\n",
       "2007    251\n",
       "2012    250\n",
       "2001    248\n",
       "2019    202\n",
       "Name: Date, dtype: int64"
      ]
     },
     "execution_count": 10,
     "metadata": {},
     "output_type": "execute_result"
    }
   ],
   "source": [
    "#The time series we have downloaded do not include holidays. Years have different count of working days \n",
    "#but this is normal because holiday days are on different day every year\n",
    "microsoft_prices.index.year.value_counts()"
   ]
  },
  {
   "cell_type": "code",
   "execution_count": 11,
   "metadata": {},
   "outputs": [],
   "source": [
    "#microsoft_prices.loc[\"2010\"].count()"
   ]
  },
  {
   "cell_type": "code",
   "execution_count": 12,
   "metadata": {},
   "outputs": [],
   "source": [
    "microsoft_prices = microsoft_prices.rename(columns = {\n",
    "    \"High\": \"high\", \n",
    "    \"Low\": \"low\", \n",
    "    \"Open\": \"open\",\n",
    "    \"Close\": \"close\",\n",
    "    \"Volume\": \"volume\",\n",
    "    \"Adj Close\": \"adj_close\"})"
   ]
  },
  {
   "cell_type": "code",
   "execution_count": 13,
   "metadata": {},
   "outputs": [],
   "source": [
    "microsoft_prices = microsoft_prices.round({\"high\":2, \"low\":2, \"open\":2, \"close\":2, \"adj_close\":2})"
   ]
  },
  {
   "cell_type": "code",
   "execution_count": 14,
   "metadata": {},
   "outputs": [
    {
     "data": {
      "text/html": [
       "<div>\n",
       "<style scoped>\n",
       "    .dataframe tbody tr th:only-of-type {\n",
       "        vertical-align: middle;\n",
       "    }\n",
       "\n",
       "    .dataframe tbody tr th {\n",
       "        vertical-align: top;\n",
       "    }\n",
       "\n",
       "    .dataframe thead th {\n",
       "        text-align: right;\n",
       "    }\n",
       "</style>\n",
       "<table border=\"1\" class=\"dataframe\">\n",
       "  <thead>\n",
       "    <tr style=\"text-align: right;\">\n",
       "      <th></th>\n",
       "      <th>high</th>\n",
       "      <th>low</th>\n",
       "      <th>open</th>\n",
       "      <th>close</th>\n",
       "      <th>volume</th>\n",
       "      <th>adj_close</th>\n",
       "    </tr>\n",
       "    <tr>\n",
       "      <th>Date</th>\n",
       "      <th></th>\n",
       "      <th></th>\n",
       "      <th></th>\n",
       "      <th></th>\n",
       "      <th></th>\n",
       "      <th></th>\n",
       "    </tr>\n",
       "  </thead>\n",
       "  <tbody>\n",
       "    <tr>\n",
       "      <th>2019-02-22</th>\n",
       "      <td>111.20</td>\n",
       "      <td>109.82</td>\n",
       "      <td>110.05</td>\n",
       "      <td>110.97</td>\n",
       "      <td>27763200.0</td>\n",
       "      <td>110.19</td>\n",
       "    </tr>\n",
       "    <tr>\n",
       "      <th>2015-01-29</th>\n",
       "      <td>42.12</td>\n",
       "      <td>40.79</td>\n",
       "      <td>40.93</td>\n",
       "      <td>42.01</td>\n",
       "      <td>63585300.0</td>\n",
       "      <td>37.84</td>\n",
       "    </tr>\n",
       "    <tr>\n",
       "      <th>2012-02-08</th>\n",
       "      <td>30.67</td>\n",
       "      <td>30.22</td>\n",
       "      <td>30.26</td>\n",
       "      <td>30.66</td>\n",
       "      <td>49659100.0</td>\n",
       "      <td>25.38</td>\n",
       "    </tr>\n",
       "    <tr>\n",
       "      <th>2010-04-23</th>\n",
       "      <td>31.58</td>\n",
       "      <td>30.65</td>\n",
       "      <td>31.12</td>\n",
       "      <td>30.96</td>\n",
       "      <td>126766600.0</td>\n",
       "      <td>24.57</td>\n",
       "    </tr>\n",
       "    <tr>\n",
       "      <th>2018-10-01</th>\n",
       "      <td>115.68</td>\n",
       "      <td>114.73</td>\n",
       "      <td>114.75</td>\n",
       "      <td>115.61</td>\n",
       "      <td>18883100.0</td>\n",
       "      <td>113.82</td>\n",
       "    </tr>\n",
       "    <tr>\n",
       "      <th>2006-03-27</th>\n",
       "      <td>27.30</td>\n",
       "      <td>27.00</td>\n",
       "      <td>27.01</td>\n",
       "      <td>27.01</td>\n",
       "      <td>59908600.0</td>\n",
       "      <td>19.97</td>\n",
       "    </tr>\n",
       "    <tr>\n",
       "      <th>2015-02-24</th>\n",
       "      <td>44.30</td>\n",
       "      <td>43.92</td>\n",
       "      <td>44.15</td>\n",
       "      <td>44.09</td>\n",
       "      <td>25271700.0</td>\n",
       "      <td>40.00</td>\n",
       "    </tr>\n",
       "    <tr>\n",
       "      <th>2000-03-09</th>\n",
       "      <td>50.00</td>\n",
       "      <td>47.50</td>\n",
       "      <td>47.66</td>\n",
       "      <td>50.00</td>\n",
       "      <td>88198800.0</td>\n",
       "      <td>32.28</td>\n",
       "    </tr>\n",
       "    <tr>\n",
       "      <th>2005-03-09</th>\n",
       "      <td>25.57</td>\n",
       "      <td>25.28</td>\n",
       "      <td>25.39</td>\n",
       "      <td>25.31</td>\n",
       "      <td>62991800.0</td>\n",
       "      <td>18.48</td>\n",
       "    </tr>\n",
       "    <tr>\n",
       "      <th>2019-02-28</th>\n",
       "      <td>112.88</td>\n",
       "      <td>111.73</td>\n",
       "      <td>112.04</td>\n",
       "      <td>112.03</td>\n",
       "      <td>29083900.0</td>\n",
       "      <td>111.25</td>\n",
       "    </tr>\n",
       "  </tbody>\n",
       "</table>\n",
       "</div>"
      ],
      "text/plain": [
       "              high     low    open   close       volume  adj_close\n",
       "Date                                                              \n",
       "2019-02-22  111.20  109.82  110.05  110.97   27763200.0     110.19\n",
       "2015-01-29   42.12   40.79   40.93   42.01   63585300.0      37.84\n",
       "2012-02-08   30.67   30.22   30.26   30.66   49659100.0      25.38\n",
       "2010-04-23   31.58   30.65   31.12   30.96  126766600.0      24.57\n",
       "2018-10-01  115.68  114.73  114.75  115.61   18883100.0     113.82\n",
       "2006-03-27   27.30   27.00   27.01   27.01   59908600.0      19.97\n",
       "2015-02-24   44.30   43.92   44.15   44.09   25271700.0      40.00\n",
       "2000-03-09   50.00   47.50   47.66   50.00   88198800.0      32.28\n",
       "2005-03-09   25.57   25.28   25.39   25.31   62991800.0      18.48\n",
       "2019-02-28  112.88  111.73  112.04  112.03   29083900.0     111.25"
      ]
     },
     "execution_count": 14,
     "metadata": {},
     "output_type": "execute_result"
    }
   ],
   "source": [
    "microsoft_prices.sample(10)"
   ]
  },
  {
   "cell_type": "code",
   "execution_count": 15,
   "metadata": {},
   "outputs": [
    {
     "name": "stdout",
     "output_type": "stream",
     "text": [
      "<class 'pandas.core.frame.DataFrame'>\n",
      "DatetimeIndex: 4981 entries, 2000-01-03 to 2019-10-18\n",
      "Data columns (total 6 columns):\n",
      "high         4981 non-null float64\n",
      "low          4981 non-null float64\n",
      "open         4981 non-null float64\n",
      "close        4981 non-null float64\n",
      "volume       4981 non-null float64\n",
      "adj_close    4981 non-null float64\n",
      "dtypes: float64(6)\n",
      "memory usage: 272.4 KB\n"
     ]
    }
   ],
   "source": [
    "microsoft_prices.info()\n",
    "#no null values"
   ]
  },
  {
   "cell_type": "markdown",
   "metadata": {},
   "source": [
    "#### Plot the data to explore it further for trends, seasonality. The data should be stationary for our algorithms. It will be important to remove trends and seasonality before fitting the models.\n",
    "##### I will then scale the data for more convenience, split it , apply gridcsearch and test models."
   ]
  },
  {
   "cell_type": "code",
   "execution_count": 28,
   "metadata": {},
   "outputs": [
    {
     "data": {
      "image/png": "[encoded data removed]",
      "text/plain": [
       "<Figure size 1152x576 with 1 Axes>"
      ]
     },
     "metadata": {
      "needs_background": "light"
     },
     "output_type": "display_data"
    }
   ],
   "source": [
    "plt.figure(figsize = (16,8), linewidth=3, frameon = False)\n",
    "plt.rcParams.update({'font.size': 14})\n",
    "plt.plot(microsoft_prices[\"close\"], color = \"blue\", label = \"Close price\", linewidth = 1)\n",
    "plt.plot(microsoft_prices[\"adj_close\"], color = \"orange\", label = \"Adj. Close price\", linewidth = 1)\n",
    "#plt.plot(microsoft_prices[\"open\"], color = \"green\", label = \"Open price\", linewidth = 1)\n",
    "plt.title(\"Microsoft Close prices (2000-01-01 to 2019-09-30)\")\n",
    "plt.xlabel('Year')\n",
    "plt.ylabel(\"Price ($)\")\n",
    "plt.legend(loc = \"best\")\n",
    "plt.grid(b = True, which = \"both\", linestyle = '--', linewidth = 1, alpha = 0.5)\n",
    "plt.show()"
   ]
  },
  {
   "cell_type": "markdown",
   "metadata": {},
   "source": [
    "We can clearly see that there is an upward trend (especially after 2012) in the price of Microsoft stock over time. Due to the long period and the limitations of the plot above I cannot identify seasonality just by looking at the plot. But since this is not just guess work, I will apply some calculations to identify and remove trends and seasonality from my data.\n",
    "#### To-do! Explain all about stationarity, and removing trends.\n",
    "##### The idea - Make the data time independent (as much as possible). Make it stationary"
   ]
  },
  {
   "cell_type": "code",
   "execution_count": null,
   "metadata": {},
   "outputs": [],
   "source": []
  },
  {
   "cell_type": "code",
   "execution_count": null,
   "metadata": {},
   "outputs": [],
   "source": []
  },
  {
   "cell_type": "code",
   "execution_count": null,
   "metadata": {},
   "outputs": [],
   "source": []
  },
  {
   "cell_type": "code",
   "execution_count": null,
   "metadata": {},
   "outputs": [],
   "source": []
  },
  {
   "cell_type": "code",
   "execution_count": null,
   "metadata": {},
   "outputs": [],
   "source": []
  },
  {
   "cell_type": "code",
   "execution_count": null,
   "metadata": {},
   "outputs": [],
   "source": []
  },
  {
   "cell_type": "code",
   "execution_count": null,
   "metadata": {},
   "outputs": [],
   "source": []
  },
  {
   "cell_type": "code",
   "execution_count": 17,
   "metadata": {},
   "outputs": [],
   "source": [
    "#Explain adjusted close and drop it, use references to comments from the links\n",
    "#microsoft_close_price_target = microsoft_prices.drop(\"close\", axis = 1)\n",
    "#microsoft_adj_close_price_target = microsoft_prices.drop(\"adj_close\", axis = 1)\n",
    "#microsoft_prices.sample()"
   ]
  }
 ],
 "metadata": {
  "kernelspec": {
   "display_name": "Python 3",
   "language": "python",
   "name": "python3"
  },
  "language_info": {
   "codemirror_mode": {
    "name": "ipython",
    "version": 3
   },
   "file_extension": ".py",
   "mimetype": "text/x-python",
   "name": "python",
   "nbconvert_exporter": "python",
   "pygments_lexer": "ipython3",
   "version": "3.7.3"
  }
 },
 "nbformat": 4,
 "nbformat_minor": 2
}
