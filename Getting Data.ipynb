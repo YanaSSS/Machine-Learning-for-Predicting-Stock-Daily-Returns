{
 "cells": [
  {
   "cell_type": "markdown",
   "metadata": {},
   "source": [
    "# Get data for my project\n",
    "\n",
    "### Sources\n",
    "- Yahoo Finance\n",
    "- Quandl"
   ]
  },
  {
   "cell_type": "code",
   "execution_count": 1,
   "metadata": {},
   "outputs": [],
   "source": [
    "#!pip install quandl"
   ]
  },
  {
   "cell_type": "code",
   "execution_count": 2,
   "metadata": {},
   "outputs": [],
   "source": [
    "# Import YAHOO Finance\n",
    "import yfinance as yf\n",
    "\n",
    "# Import quandl\n",
    "import quandl"
   ]
  },
  {
   "cell_type": "code",
   "execution_count": 3,
   "metadata": {},
   "outputs": [],
   "source": [
    "# Set the ticker of Microsoft, S&P500, Nasdaq as msft, ^GSPC, ixic\n",
    "msft = yf.Ticker(\"MSFT\")\n",
    "gspc = yf.Ticker(\"^GSPC\")\n",
    "ixic = yf.Ticker(\"^IXIC\")"
   ]
  },
  {
   "cell_type": "code",
   "execution_count": 4,
   "metadata": {},
   "outputs": [],
   "source": [
    "# get historical market data for the stock (since IPO)\n",
    "stock_data = msft.history(start = \"1986-03-14\")"
   ]
  },
  {
   "cell_type": "code",
   "execution_count": 5,
   "metadata": {},
   "outputs": [],
   "source": [
    "#Save the data in csv file\n",
    "stock_data.to_csv(\"microsoft_stock_data.csv\", sep = ',')"
   ]
  },
  {
   "cell_type": "code",
   "execution_count": 6,
   "metadata": {},
   "outputs": [],
   "source": [
    "spy_data = gspc.history(start = \"1986-03-14\")\n",
    "spy_data.to_csv(\"spy_data.csv\", sep = ',')"
   ]
  },
  {
   "cell_type": "code",
   "execution_count": 7,
   "metadata": {},
   "outputs": [],
   "source": [
    "ixic_data = ixic.history(start = \"1986-03-14\")\n",
    "ixic_data.to_csv(\"nasdaq_data.csv\", sep = ',')"
   ]
  },
  {
   "cell_type": "code",
   "execution_count": 8,
   "metadata": {},
   "outputs": [],
   "source": [
    "crude_oil_futures_data = quandl.get(\"CHRIS/CME_CL1\", authtoken = \"Qv6mj989qJX_QpfRz1U1\")\n",
    "crude_oil_futures_data.to_csv(\"crude_oil_futures.csv\", sep = ',')"
   ]
  },
  {
   "cell_type": "code",
   "execution_count": 9,
   "metadata": {},
   "outputs": [],
   "source": [
    "three_month_treasury_data = quandl.get(\"FRED/DTB3\", authtoken = \"Qv6mj989qJX_QpfRz1U1\")\n",
    "three_month_treasury_data.to_csv(\"three_month_treasury.csv\", sep = ',')"
   ]
  }
 ],
 "metadata": {
  "kernelspec": {
   "display_name": "Python 3",
   "language": "python",
   "name": "python3"
  },
  "language_info": {
   "codemirror_mode": {
    "name": "ipython",
    "version": 3
   },
   "file_extension": ".py",
   "mimetype": "text/x-python",
   "name": "python",
   "nbconvert_exporter": "python",
   "pygments_lexer": "ipython3",
   "version": "3.7.3"
  }
 },
 "nbformat": 4,
 "nbformat_minor": 2
}
