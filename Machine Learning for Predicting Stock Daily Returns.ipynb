{
 "cells": [
  {
   "cell_type": "markdown",
   "metadata": {},
   "source": [
    "# Predicting Stock Prices with Different Machine Learning Models"
   ]
  },
  {
   "cell_type": "code",
   "execution_count": 1,
   "metadata": {},
   "outputs": [],
   "source": [
    "%matplotlib inline"
   ]
  },
  {
   "cell_type": "code",
   "execution_count": 2,
   "metadata": {},
   "outputs": [],
   "source": [
    "#standard imports for calculations, dataframes work and plotting - check this again\n",
    "import numpy as np\n",
    "import pandas as pd\n",
    "import matplotlib.pyplot as plt\n",
    "from mpl_toolkits.axes_grid1.inset_locator import zoomed_inset_axes\n",
    "import seaborn as sns\n",
    "\n",
    "#Dickey-Fuller test\n",
    "from statsmodels.tsa.stattools import adfuller\n",
    "\n",
    "#holidays handling\n",
    "from pandas.tseries.offsets import BDay\n",
    "\n",
    "#fixing an issue with pandas and matplotlib regarding datetime index\n",
    "from pandas.plotting import register_matplotlib_converters\n",
    "register_matplotlib_converters()\n",
    "\n",
    "np.random.seed(2209)"
   ]
  },
  {
   "cell_type": "markdown",
   "metadata": {},
   "source": [
    "Write some info about the indexes that I will use for predictors"
   ]
  },
  {
   "cell_type": "markdown",
   "metadata": {},
   "source": [
    "### Below we list all functions we use in further the project\n",
    "\n",
    "TODO: Put it in the content menu"
   ]
  },
  {
   "cell_type": "code",
   "execution_count": 3,
   "metadata": {},
   "outputs": [],
   "source": [
    "def set_date_index(data):\n",
    "    data.Date = pd.to_datetime(data.Date)    \n",
    "    #set index\n",
    "    data = data.set_index(\"Date\")\n",
    "    return data"
   ]
  },
  {
   "cell_type": "code",
   "execution_count": 4,
   "metadata": {},
   "outputs": [],
   "source": [
    "def rename_columns(data):\n",
    "    data = data.rename(columns = {\n",
    "        \"Open\": \"open\",\n",
    "        \"High\": \"high\", \n",
    "        \"Low\": \"low\",     \n",
    "        \"Close\": \"close\",\n",
    "        \"Volume\": \"volume\",\n",
    "        \"Dividends\": \"dividends\",\n",
    "        \"Stock Splits\": \"stock_splits\"})\n",
    "    return data"
   ]
  },
  {
   "cell_type": "code",
   "execution_count": 5,
   "metadata": {},
   "outputs": [],
   "source": [
    "def plot_stock_data(data, stock_name, color, scale):\n",
    "    \"\"\" Plot data using, allowing to chose my y-scale\n",
    "    \"\"\"\n",
    "    plt.rcParams.update({'font.size': 14})\n",
    "    plt.plot(data, color = color, label = \"{0} Close\".format(stock_name), linewidth = 1)\n",
    "    plt.suptitle(\"Close prices\\n 1986 - 2019\")\n",
    "    plt.yscale(scale)\n",
    "    plt.xlabel('Year')\n",
    "    plt.ylabel(\"Price ($)\")\n",
    "    plt.legend(loc = \"best\")\n",
    "    plt.grid(b = True, which = \"both\", linestyle = '--', linewidth = 1, alpha = 0.5)"
   ]
  },
  {
   "cell_type": "code",
   "execution_count": 6,
   "metadata": {},
   "outputs": [],
   "source": [
    "#TODO: Write formulas in the theory part of the project, explain more as a text. \n",
    "#ToDO: Explain why close not adj. close and why log not standard!!!!\n",
    "def calculate_log_return(data_close, data_open):\n",
    "    \"\"\" The logarithmic return or continuously compounded return.\n",
    "    R_log = ln(V_f/V_i),\n",
    "    where:\n",
    "     V_f = final value in the end of the period\n",
    "     V_i = initial value\n",
    "    \"\"\"\n",
    "    data_return = np.log(data_close/data_open) * 100\n",
    "    return data_return"
   ]
  },
  {
   "cell_type": "code",
   "execution_count": 7,
   "metadata": {},
   "outputs": [],
   "source": [
    "def calculate_return(data_close, data_open):\n",
    "    \"\"\" The return over a single period of any length of time.\n",
    "    R = (V_f - V_i)/V_i\n",
    "    where:\n",
    "     V_f = final value in the end of the period\n",
    "     V_i = initial value\n",
    "    \"\"\"\n",
    "    data_return = (data_close - data_open) / data_open * 100\n",
    "    return data_return"
   ]
  },
  {
   "cell_type": "code",
   "execution_count": 8,
   "metadata": {},
   "outputs": [],
   "source": [
    "#write documentation, change some names to better describe\n",
    "def test_stationarity(timeseries):\n",
    "    \"\"\" TODO: write documentation, maybe split this function\n",
    "    \"\"\"\n",
    "    plt.figure(figsize = (16,8), linewidth=3, frameon = False)\n",
    "    #Determing rolling statistics\n",
    "    rolmean = timeseries.rolling(window = 252).mean() #choosing this window because I want to check for 252 business days a year\n",
    "    rolstd = timeseries.rolling(window = 252).std()\n",
    "\n",
    "    #Plot rolling statistics:\n",
    "    orig = plt.plot(timeseries, color = 'blue',label = 'Original')\n",
    "    mean = plt.plot(rolmean, color = 'orange', label = 'Rolling Mean')\n",
    "    std = plt.plot(rolstd, color = 'black', label = 'Rolling Std')\n",
    "    plt.legend(loc = 'best')\n",
    "    plt.title('Rolling Mean & Standard Deviation')\n",
    "    plt.show(block = False)\n",
    "    \n",
    "    #Perform Dickey-Fuller test:\n",
    "    print('Results of Dickey-Fuller Test:')\n",
    "    dftest = adfuller(timeseries, autolag='AIC')\n",
    "    dfoutput = pd.Series(dftest[0:4], index=['Test Statistic','p-value','#Lags Used','Number of Observations Used'])\n",
    "    for key,value in dftest[4].items():\n",
    "        dfoutput['Critical Value (%s)'%key] = value\n",
    "    print(dfoutput)"
   ]
  },
  {
   "cell_type": "code",
   "execution_count": 9,
   "metadata": {},
   "outputs": [],
   "source": [
    "#Reading our data\n",
    "msft_data = pd.read_csv(\"microsoft_stock_data.csv\")"
   ]
  },
  {
   "cell_type": "code",
   "execution_count": 10,
   "metadata": {},
   "outputs": [
    {
     "data": {
      "text/html": [
       "<div>\n",
       "<style scoped>\n",
       "    .dataframe tbody tr th:only-of-type {\n",
       "        vertical-align: middle;\n",
       "    }\n",
       "\n",
       "    .dataframe tbody tr th {\n",
       "        vertical-align: top;\n",
       "    }\n",
       "\n",
       "    .dataframe thead th {\n",
       "        text-align: right;\n",
       "    }\n",
       "</style>\n",
       "<table border=\"1\" class=\"dataframe\">\n",
       "  <thead>\n",
       "    <tr style=\"text-align: right;\">\n",
       "      <th></th>\n",
       "      <th>Date</th>\n",
       "      <th>Open</th>\n",
       "      <th>High</th>\n",
       "      <th>Low</th>\n",
       "      <th>Close</th>\n",
       "      <th>Volume</th>\n",
       "      <th>Dividends</th>\n",
       "      <th>Stock Splits</th>\n",
       "    </tr>\n",
       "  </thead>\n",
       "  <tbody>\n",
       "    <tr>\n",
       "      <th>8483</th>\n",
       "      <td>2019-11-06</td>\n",
       "      <td>3075.10</td>\n",
       "      <td>3078.34</td>\n",
       "      <td>3065.89</td>\n",
       "      <td>3076.78</td>\n",
       "      <td>4458190000</td>\n",
       "      <td>0</td>\n",
       "      <td>0</td>\n",
       "    </tr>\n",
       "    <tr>\n",
       "      <th>8484</th>\n",
       "      <td>2019-11-07</td>\n",
       "      <td>3087.02</td>\n",
       "      <td>3097.77</td>\n",
       "      <td>3080.23</td>\n",
       "      <td>3085.18</td>\n",
       "      <td>4144640000</td>\n",
       "      <td>0</td>\n",
       "      <td>0</td>\n",
       "    </tr>\n",
       "    <tr>\n",
       "      <th>8485</th>\n",
       "      <td>2019-11-08</td>\n",
       "      <td>3081.25</td>\n",
       "      <td>3093.09</td>\n",
       "      <td>3073.58</td>\n",
       "      <td>3093.08</td>\n",
       "      <td>3499150000</td>\n",
       "      <td>0</td>\n",
       "      <td>0</td>\n",
       "    </tr>\n",
       "    <tr>\n",
       "      <th>8486</th>\n",
       "      <td>2019-11-11</td>\n",
       "      <td>3080.33</td>\n",
       "      <td>3088.33</td>\n",
       "      <td>3075.82</td>\n",
       "      <td>3087.01</td>\n",
       "      <td>3035530000</td>\n",
       "      <td>0</td>\n",
       "      <td>0</td>\n",
       "    </tr>\n",
       "    <tr>\n",
       "      <th>8487</th>\n",
       "      <td>2019-11-12</td>\n",
       "      <td>3089.28</td>\n",
       "      <td>3102.61</td>\n",
       "      <td>3084.73</td>\n",
       "      <td>3091.84</td>\n",
       "      <td>3466010000</td>\n",
       "      <td>0</td>\n",
       "      <td>0</td>\n",
       "    </tr>\n",
       "  </tbody>\n",
       "</table>\n",
       "</div>"
      ],
      "text/plain": [
       "            Date     Open     High      Low    Close      Volume  Dividends  \\\n",
       "8483  2019-11-06  3075.10  3078.34  3065.89  3076.78  4458190000          0   \n",
       "8484  2019-11-07  3087.02  3097.77  3080.23  3085.18  4144640000          0   \n",
       "8485  2019-11-08  3081.25  3093.09  3073.58  3093.08  3499150000          0   \n",
       "8486  2019-11-11  3080.33  3088.33  3075.82  3087.01  3035530000          0   \n",
       "8487  2019-11-12  3089.28  3102.61  3084.73  3091.84  3466010000          0   \n",
       "\n",
       "      Stock Splits  \n",
       "8483             0  \n",
       "8484             0  \n",
       "8485             0  \n",
       "8486             0  \n",
       "8487             0  "
      ]
     },
     "execution_count": 10,
     "metadata": {},
     "output_type": "execute_result"
    }
   ],
   "source": [
    "spy_500 = pd.read_csv(\"spy_data.csv\")\n",
    "spy_500.tail()"
   ]
  },
  {
   "cell_type": "code",
   "execution_count": 11,
   "metadata": {},
   "outputs": [
    {
     "data": {
      "text/html": [
       "<div>\n",
       "<style scoped>\n",
       "    .dataframe tbody tr th:only-of-type {\n",
       "        vertical-align: middle;\n",
       "    }\n",
       "\n",
       "    .dataframe tbody tr th {\n",
       "        vertical-align: top;\n",
       "    }\n",
       "\n",
       "    .dataframe thead th {\n",
       "        text-align: right;\n",
       "    }\n",
       "</style>\n",
       "<table border=\"1\" class=\"dataframe\">\n",
       "  <thead>\n",
       "    <tr style=\"text-align: right;\">\n",
       "      <th></th>\n",
       "      <th>Date</th>\n",
       "      <th>Open</th>\n",
       "      <th>High</th>\n",
       "      <th>Low</th>\n",
       "      <th>Close</th>\n",
       "      <th>Volume</th>\n",
       "      <th>Dividends</th>\n",
       "      <th>Stock Splits</th>\n",
       "    </tr>\n",
       "  </thead>\n",
       "  <tbody>\n",
       "    <tr>\n",
       "      <th>8483</th>\n",
       "      <td>2019-11-06</td>\n",
       "      <td>8426.57</td>\n",
       "      <td>8426.57</td>\n",
       "      <td>8379.33</td>\n",
       "      <td>8410.63</td>\n",
       "      <td>2332650000</td>\n",
       "      <td>0</td>\n",
       "      <td>0</td>\n",
       "    </tr>\n",
       "    <tr>\n",
       "      <th>8484</th>\n",
       "      <td>2019-11-07</td>\n",
       "      <td>8455.11</td>\n",
       "      <td>8483.16</td>\n",
       "      <td>8415.87</td>\n",
       "      <td>8434.52</td>\n",
       "      <td>2393950000</td>\n",
       "      <td>0</td>\n",
       "      <td>0</td>\n",
       "    </tr>\n",
       "    <tr>\n",
       "      <th>8485</th>\n",
       "      <td>2019-11-08</td>\n",
       "      <td>8422.67</td>\n",
       "      <td>8475.57</td>\n",
       "      <td>8405.89</td>\n",
       "      <td>8475.31</td>\n",
       "      <td>1974190000</td>\n",
       "      <td>0</td>\n",
       "      <td>0</td>\n",
       "    </tr>\n",
       "    <tr>\n",
       "      <th>8486</th>\n",
       "      <td>2019-11-11</td>\n",
       "      <td>8431.26</td>\n",
       "      <td>8467.29</td>\n",
       "      <td>8425.48</td>\n",
       "      <td>8464.28</td>\n",
       "      <td>1715470000</td>\n",
       "      <td>0</td>\n",
       "      <td>0</td>\n",
       "    </tr>\n",
       "    <tr>\n",
       "      <th>8487</th>\n",
       "      <td>2019-11-12</td>\n",
       "      <td>8471.07</td>\n",
       "      <td>8514.84</td>\n",
       "      <td>8462.99</td>\n",
       "      <td>8486.09</td>\n",
       "      <td>1987820000</td>\n",
       "      <td>0</td>\n",
       "      <td>0</td>\n",
       "    </tr>\n",
       "  </tbody>\n",
       "</table>\n",
       "</div>"
      ],
      "text/plain": [
       "            Date     Open     High      Low    Close      Volume  Dividends  \\\n",
       "8483  2019-11-06  8426.57  8426.57  8379.33  8410.63  2332650000          0   \n",
       "8484  2019-11-07  8455.11  8483.16  8415.87  8434.52  2393950000          0   \n",
       "8485  2019-11-08  8422.67  8475.57  8405.89  8475.31  1974190000          0   \n",
       "8486  2019-11-11  8431.26  8467.29  8425.48  8464.28  1715470000          0   \n",
       "8487  2019-11-12  8471.07  8514.84  8462.99  8486.09  1987820000          0   \n",
       "\n",
       "      Stock Splits  \n",
       "8483             0  \n",
       "8484             0  \n",
       "8485             0  \n",
       "8486             0  \n",
       "8487             0  "
      ]
     },
     "execution_count": 11,
     "metadata": {},
     "output_type": "execute_result"
    }
   ],
   "source": [
    "nasdaq = pd.read_csv(\"nasdaq_data.csv\")\n",
    "nasdaq.tail()"
   ]
  },
  {
   "cell_type": "markdown",
   "metadata": {},
   "source": [
    "Below take a look at the data\n",
    "\n",
    "### All models are wrong but some are useful! \n",
    "### Find the other citation and add Svetlio's picture"
   ]
  },
  {
   "cell_type": "markdown",
   "metadata": {},
   "source": [
    "### - *Explain why choosing ln return in the end.*\n",
    "### - *Explain why you don't need adj.prices*\n",
    "### - *Use trading volume only for the stock to predict*\n",
    "## Test stationarity on return maybe!!!\n",
    "#### - *But plot the prices before and check on one plot. Maybe will need to log it to look nice*\n",
    "\n",
    "##### Don't forget about autocorrelations and check how to work with it. \n",
    "##### Leave EPS and P/E for now"
   ]
  },
  {
   "cell_type": "code",
   "execution_count": 12,
   "metadata": {},
   "outputs": [
    {
     "data": {
      "text/html": [
       "<div>\n",
       "<style scoped>\n",
       "    .dataframe tbody tr th:only-of-type {\n",
       "        vertical-align: middle;\n",
       "    }\n",
       "\n",
       "    .dataframe tbody tr th {\n",
       "        vertical-align: top;\n",
       "    }\n",
       "\n",
       "    .dataframe thead th {\n",
       "        text-align: right;\n",
       "    }\n",
       "</style>\n",
       "<table border=\"1\" class=\"dataframe\">\n",
       "  <thead>\n",
       "    <tr style=\"text-align: right;\">\n",
       "      <th></th>\n",
       "      <th>Date</th>\n",
       "      <th>Open</th>\n",
       "      <th>High</th>\n",
       "      <th>Low</th>\n",
       "      <th>Close</th>\n",
       "      <th>Volume</th>\n",
       "      <th>Dividends</th>\n",
       "      <th>Stock Splits</th>\n",
       "    </tr>\n",
       "  </thead>\n",
       "  <tbody>\n",
       "    <tr>\n",
       "      <th>7412</th>\n",
       "      <td>2015-08-06</td>\n",
       "      <td>43.56</td>\n",
       "      <td>43.62</td>\n",
       "      <td>42.3</td>\n",
       "      <td>42.57</td>\n",
       "      <td>27368000</td>\n",
       "      <td>0.0</td>\n",
       "      <td>0.0</td>\n",
       "    </tr>\n",
       "  </tbody>\n",
       "</table>\n",
       "</div>"
      ],
      "text/plain": [
       "            Date   Open   High   Low  Close    Volume  Dividends  Stock Splits\n",
       "7412  2015-08-06  43.56  43.62  42.3  42.57  27368000        0.0           0.0"
      ]
     },
     "execution_count": 12,
     "metadata": {},
     "output_type": "execute_result"
    }
   ],
   "source": [
    "msft_data.sample()\n",
    "#explain columns, terminology, time series definition, stocks for sure"
   ]
  },
  {
   "cell_type": "code",
   "execution_count": 13,
   "metadata": {},
   "outputs": [
    {
     "data": {
      "text/plain": [
       "(8488, 8)"
      ]
     },
     "execution_count": 13,
     "metadata": {},
     "output_type": "execute_result"
    }
   ],
   "source": [
    "msft_data.shape"
   ]
  },
  {
   "cell_type": "code",
   "execution_count": 14,
   "metadata": {},
   "outputs": [],
   "source": [
    "msft_data = set_date_index(msft_data)\n",
    "spy_500 = set_date_index(spy_500)\n",
    "nasdaq = set_date_index(nasdaq)"
   ]
  },
  {
   "cell_type": "code",
   "execution_count": 15,
   "metadata": {},
   "outputs": [],
   "source": [
    "#Since the date columns is object, we will transform it into a datetime format, before we proceed further\n",
    "#msft_data.Date = pd.to_datetime(msft_data.Date)"
   ]
  },
  {
   "cell_type": "code",
   "execution_count": 16,
   "metadata": {},
   "outputs": [],
   "source": [
    "#I used this function to check if business days ONLY are included. But then set up a function to make date an index for all\n",
    "#of my stocks/indexes\n",
    "#since we don't know if only business days are included we will have to make another check\n",
    "#isBusinessDay = BDay().onOffset\n",
    "#business_days_check = pd.to_datetime(data.Date).map(isBusinessDay)\n",
    "#microsoft_business_days_check.shape\n",
    "#microsoft_business_days_check.unique()"
   ]
  },
  {
   "cell_type": "code",
   "execution_count": 17,
   "metadata": {
    "scrolled": true
   },
   "outputs": [],
   "source": [
    "#The time series we have downloaded do not include holidays. Years have different count of working days \n",
    "#but this is normal because holiday days are on different day every year\n",
    "#msft_data.index.year.value_counts(), msft_data.index.year.unique()"
   ]
  },
  {
   "cell_type": "code",
   "execution_count": 18,
   "metadata": {},
   "outputs": [
    {
     "data": {
      "text/plain": [
       "Open            float64\n",
       "High            float64\n",
       "Low             float64\n",
       "Close           float64\n",
       "Volume            int64\n",
       "Dividends         int64\n",
       "Stock Splits      int64\n",
       "dtype: object"
      ]
     },
     "execution_count": 18,
     "metadata": {},
     "output_type": "execute_result"
    }
   ],
   "source": [
    "#microsoft_prices.loc[\"2010\"].count()\n",
    "spy_500.dtypes"
   ]
  },
  {
   "cell_type": "code",
   "execution_count": 19,
   "metadata": {},
   "outputs": [],
   "source": [
    "msft_data = rename_columns(msft_data)\n",
    "spy_500 = rename_columns(spy_500)\n",
    "nasdaq = rename_columns(nasdaq)"
   ]
  },
  {
   "cell_type": "code",
   "execution_count": 20,
   "metadata": {},
   "outputs": [
    {
     "data": {
      "text/html": [
       "<div>\n",
       "<style scoped>\n",
       "    .dataframe tbody tr th:only-of-type {\n",
       "        vertical-align: middle;\n",
       "    }\n",
       "\n",
       "    .dataframe tbody tr th {\n",
       "        vertical-align: top;\n",
       "    }\n",
       "\n",
       "    .dataframe thead th {\n",
       "        text-align: right;\n",
       "    }\n",
       "</style>\n",
       "<table border=\"1\" class=\"dataframe\">\n",
       "  <thead>\n",
       "    <tr style=\"text-align: right;\">\n",
       "      <th></th>\n",
       "      <th>open</th>\n",
       "      <th>high</th>\n",
       "      <th>low</th>\n",
       "      <th>close</th>\n",
       "      <th>volume</th>\n",
       "      <th>dividends</th>\n",
       "      <th>stock_splits</th>\n",
       "    </tr>\n",
       "    <tr>\n",
       "      <th>Date</th>\n",
       "      <th></th>\n",
       "      <th></th>\n",
       "      <th></th>\n",
       "      <th></th>\n",
       "      <th></th>\n",
       "      <th></th>\n",
       "      <th></th>\n",
       "    </tr>\n",
       "  </thead>\n",
       "  <tbody>\n",
       "    <tr>\n",
       "      <th>1996-07-03</th>\n",
       "      <td>1191.3</td>\n",
       "      <td>1191.4</td>\n",
       "      <td>1180.89</td>\n",
       "      <td>1181.6</td>\n",
       "      <td>499320000</td>\n",
       "      <td>0</td>\n",
       "      <td>0</td>\n",
       "    </tr>\n",
       "  </tbody>\n",
       "</table>\n",
       "</div>"
      ],
      "text/plain": [
       "              open    high      low   close     volume  dividends  \\\n",
       "Date                                                                \n",
       "1996-07-03  1191.3  1191.4  1180.89  1181.6  499320000          0   \n",
       "\n",
       "            stock_splits  \n",
       "Date                      \n",
       "1996-07-03             0  "
      ]
     },
     "execution_count": 20,
     "metadata": {},
     "output_type": "execute_result"
    }
   ],
   "source": [
    "nasdaq.sample(1)"
   ]
  },
  {
   "cell_type": "code",
   "execution_count": 21,
   "metadata": {},
   "outputs": [],
   "source": [
    "#I needed to round the data when I downloaded it first from another source\n",
    "#microsoft_prices = microsoft_prices.round({\"high\":2, \"low\":2, \"open\":2, \"close\":2, \"adj_close\":2})"
   ]
  },
  {
   "cell_type": "code",
   "execution_count": 22,
   "metadata": {},
   "outputs": [
    {
     "name": "stdout",
     "output_type": "stream",
     "text": [
      "<class 'pandas.core.frame.DataFrame'>\n",
      "DatetimeIndex: 8488 entries, 1986-03-13 to 2019-11-12\n",
      "Data columns (total 7 columns):\n",
      "open            8488 non-null float64\n",
      "high            8488 non-null float64\n",
      "low             8488 non-null float64\n",
      "close           8488 non-null float64\n",
      "volume          8488 non-null int64\n",
      "dividends       8488 non-null float64\n",
      "stock_splits    8488 non-null float64\n",
      "dtypes: float64(6), int64(1)\n",
      "memory usage: 530.5 KB\n"
     ]
    }
   ],
   "source": [
    "msft_data.info()\n",
    "#no null values"
   ]
  },
  {
   "cell_type": "code",
   "execution_count": 23,
   "metadata": {},
   "outputs": [],
   "source": [
    "#spy_500.info(), nasdaq.info()"
   ]
  },
  {
   "cell_type": "code",
   "execution_count": 24,
   "metadata": {},
   "outputs": [
    {
     "data": {
      "image/png": "[encoded data removed]",
      "text/plain": [
       "<Figure size 1008x576 with 1 Axes>"
      ]
     },
     "metadata": {
      "needs_background": "light"
     },
     "output_type": "display_data"
    }
   ],
   "source": [
    "plt.figure(figsize = (14,8), linewidth=3, frameon = False)\n",
    "\n",
    "data = [msft_data.close, spy_500.close, nasdaq.close]\n",
    "data_names = [\"Microsoft\", \"S&P 500\", \"NASDAQ\"]\n",
    "colors = [\"blue\", \"brown\", \"green\"]\n",
    "scale = \"log\"\n",
    "\n",
    "for dataset, name, color in zip(data, data_names, colors):\n",
    "    plot_stock_data(dataset, name, color, scale)\n",
    "plt.show()"
   ]
  },
  {
   "cell_type": "code",
   "execution_count": 25,
   "metadata": {},
   "outputs": [],
   "source": [
    "msft_data[\"daily_log_return_msft\"] = calculate_log_return(msft_data.close, msft_data.open)\n",
    "msft_data[\"daily_return\"] = calculate_return(msft_data.close, msft_data.open)"
   ]
  },
  {
   "cell_type": "code",
   "execution_count": 26,
   "metadata": {},
   "outputs": [
    {
     "data": {
      "text/html": [
       "<div>\n",
       "<style scoped>\n",
       "    .dataframe tbody tr th:only-of-type {\n",
       "        vertical-align: middle;\n",
       "    }\n",
       "\n",
       "    .dataframe tbody tr th {\n",
       "        vertical-align: top;\n",
       "    }\n",
       "\n",
       "    .dataframe thead th {\n",
       "        text-align: right;\n",
       "    }\n",
       "</style>\n",
       "<table border=\"1\" class=\"dataframe\">\n",
       "  <thead>\n",
       "    <tr style=\"text-align: right;\">\n",
       "      <th></th>\n",
       "      <th>open</th>\n",
       "      <th>high</th>\n",
       "      <th>low</th>\n",
       "      <th>close</th>\n",
       "      <th>volume</th>\n",
       "      <th>dividends</th>\n",
       "      <th>stock_splits</th>\n",
       "      <th>daily_log_return_msft</th>\n",
       "      <th>daily_return</th>\n",
       "    </tr>\n",
       "    <tr>\n",
       "      <th>Date</th>\n",
       "      <th></th>\n",
       "      <th></th>\n",
       "      <th></th>\n",
       "      <th></th>\n",
       "      <th></th>\n",
       "      <th></th>\n",
       "      <th></th>\n",
       "      <th></th>\n",
       "      <th></th>\n",
       "    </tr>\n",
       "  </thead>\n",
       "  <tbody>\n",
       "    <tr>\n",
       "      <th>1986-03-13</th>\n",
       "      <td>0.06</td>\n",
       "      <td>0.07</td>\n",
       "      <td>0.06</td>\n",
       "      <td>0.06</td>\n",
       "      <td>1031788800</td>\n",
       "      <td>0.0</td>\n",
       "      <td>0.0</td>\n",
       "      <td>0.000000</td>\n",
       "      <td>0.000000</td>\n",
       "    </tr>\n",
       "    <tr>\n",
       "      <th>1986-03-14</th>\n",
       "      <td>0.06</td>\n",
       "      <td>0.07</td>\n",
       "      <td>0.06</td>\n",
       "      <td>0.07</td>\n",
       "      <td>308160000</td>\n",
       "      <td>0.0</td>\n",
       "      <td>0.0</td>\n",
       "      <td>15.415068</td>\n",
       "      <td>16.666667</td>\n",
       "    </tr>\n",
       "    <tr>\n",
       "      <th>1986-03-17</th>\n",
       "      <td>0.07</td>\n",
       "      <td>0.07</td>\n",
       "      <td>0.07</td>\n",
       "      <td>0.07</td>\n",
       "      <td>133171200</td>\n",
       "      <td>0.0</td>\n",
       "      <td>0.0</td>\n",
       "      <td>0.000000</td>\n",
       "      <td>0.000000</td>\n",
       "    </tr>\n",
       "    <tr>\n",
       "      <th>1986-03-18</th>\n",
       "      <td>0.07</td>\n",
       "      <td>0.07</td>\n",
       "      <td>0.06</td>\n",
       "      <td>0.06</td>\n",
       "      <td>67766400</td>\n",
       "      <td>0.0</td>\n",
       "      <td>0.0</td>\n",
       "      <td>-15.415068</td>\n",
       "      <td>-14.285714</td>\n",
       "    </tr>\n",
       "    <tr>\n",
       "      <th>1986-03-19</th>\n",
       "      <td>0.06</td>\n",
       "      <td>0.07</td>\n",
       "      <td>0.06</td>\n",
       "      <td>0.06</td>\n",
       "      <td>47894400</td>\n",
       "      <td>0.0</td>\n",
       "      <td>0.0</td>\n",
       "      <td>0.000000</td>\n",
       "      <td>0.000000</td>\n",
       "    </tr>\n",
       "  </tbody>\n",
       "</table>\n",
       "</div>"
      ],
      "text/plain": [
       "            open  high   low  close      volume  dividends  stock_splits  \\\n",
       "Date                                                                       \n",
       "1986-03-13  0.06  0.07  0.06   0.06  1031788800        0.0           0.0   \n",
       "1986-03-14  0.06  0.07  0.06   0.07   308160000        0.0           0.0   \n",
       "1986-03-17  0.07  0.07  0.07   0.07   133171200        0.0           0.0   \n",
       "1986-03-18  0.07  0.07  0.06   0.06    67766400        0.0           0.0   \n",
       "1986-03-19  0.06  0.07  0.06   0.06    47894400        0.0           0.0   \n",
       "\n",
       "            daily_log_return_msft  daily_return  \n",
       "Date                                             \n",
       "1986-03-13               0.000000      0.000000  \n",
       "1986-03-14              15.415068     16.666667  \n",
       "1986-03-17               0.000000      0.000000  \n",
       "1986-03-18             -15.415068    -14.285714  \n",
       "1986-03-19               0.000000      0.000000  "
      ]
     },
     "execution_count": 26,
     "metadata": {},
     "output_type": "execute_result"
    }
   ],
   "source": [
    "msft_data.head()"
   ]
  },
  {
   "cell_type": "code",
   "execution_count": 27,
   "metadata": {},
   "outputs": [],
   "source": [
    "spy_500[\"daily_log_return_spy\"] = calculate_log_return(spy_500.close, spy_500.open)\n",
    "spy_500[\"daily_return\"] = calculate_return(spy_500.close, spy_500.open)"
   ]
  },
  {
   "cell_type": "code",
   "execution_count": 28,
   "metadata": {},
   "outputs": [],
   "source": [
    "nasdaq[\"daily_log_return_nasdaq\"] = calculate_log_return(nasdaq.close, nasdaq.open)\n",
    "nasdaq[\"daily_return\"] = calculate_return(nasdaq.close, nasdaq.open)"
   ]
  },
  {
   "cell_type": "code",
   "execution_count": 29,
   "metadata": {},
   "outputs": [],
   "source": [
    "#explain there is no problem using secondary market treasury rate - what Svetlio told me. Explain difference between markets.\n",
    "#explain \"risk-free\"\n",
    "three_month_treasury = pd.read_csv(\"three_month_treasury.csv\")"
   ]
  },
  {
   "cell_type": "code",
   "execution_count": 30,
   "metadata": {},
   "outputs": [
    {
     "data": {
      "text/html": [
       "<div>\n",
       "<style scoped>\n",
       "    .dataframe tbody tr th:only-of-type {\n",
       "        vertical-align: middle;\n",
       "    }\n",
       "\n",
       "    .dataframe tbody tr th {\n",
       "        vertical-align: top;\n",
       "    }\n",
       "\n",
       "    .dataframe thead th {\n",
       "        text-align: right;\n",
       "    }\n",
       "</style>\n",
       "<table border=\"1\" class=\"dataframe\">\n",
       "  <thead>\n",
       "    <tr style=\"text-align: right;\">\n",
       "      <th></th>\n",
       "      <th>Date</th>\n",
       "      <th>Value</th>\n",
       "    </tr>\n",
       "  </thead>\n",
       "  <tbody>\n",
       "    <tr>\n",
       "      <th>0</th>\n",
       "      <td>1954-01-04</td>\n",
       "      <td>1.33</td>\n",
       "    </tr>\n",
       "    <tr>\n",
       "      <th>1</th>\n",
       "      <td>1954-01-05</td>\n",
       "      <td>1.28</td>\n",
       "    </tr>\n",
       "    <tr>\n",
       "      <th>2</th>\n",
       "      <td>1954-01-06</td>\n",
       "      <td>1.28</td>\n",
       "    </tr>\n",
       "    <tr>\n",
       "      <th>3</th>\n",
       "      <td>1954-01-07</td>\n",
       "      <td>1.31</td>\n",
       "    </tr>\n",
       "    <tr>\n",
       "      <th>4</th>\n",
       "      <td>1954-01-08</td>\n",
       "      <td>1.31</td>\n",
       "    </tr>\n",
       "  </tbody>\n",
       "</table>\n",
       "</div>"
      ],
      "text/plain": [
       "         Date  Value\n",
       "0  1954-01-04   1.33\n",
       "1  1954-01-05   1.28\n",
       "2  1954-01-06   1.28\n",
       "3  1954-01-07   1.31\n",
       "4  1954-01-08   1.31"
      ]
     },
     "execution_count": 30,
     "metadata": {},
     "output_type": "execute_result"
    }
   ],
   "source": [
    "three_month_treasury.head()"
   ]
  },
  {
   "cell_type": "code",
   "execution_count": 31,
   "metadata": {},
   "outputs": [],
   "source": [
    "three_month_treasury = set_date_index(three_month_treasury)"
   ]
  },
  {
   "cell_type": "code",
   "execution_count": 32,
   "metadata": {},
   "outputs": [
    {
     "data": {
      "text/plain": [
       "(16456, 1)"
      ]
     },
     "execution_count": 32,
     "metadata": {},
     "output_type": "execute_result"
    }
   ],
   "source": [
    "three_month_treasury.shape"
   ]
  },
  {
   "cell_type": "code",
   "execution_count": 33,
   "metadata": {},
   "outputs": [
    {
     "data": {
      "text/plain": [
       "Int64Index([1954, 1955, 1956, 1957, 1958, 1959, 1960, 1961, 1962, 1963, 1964,\n",
       "            1965, 1966, 1967, 1968, 1969, 1970, 1971, 1972, 1973, 1974, 1975,\n",
       "            1976, 1977, 1978, 1979, 1980, 1981, 1982, 1983, 1984, 1985, 1986,\n",
       "            1987, 1988, 1989, 1990, 1991, 1992, 1993, 1994, 1995, 1996, 1997,\n",
       "            1998, 1999, 2000, 2001, 2002, 2003, 2004, 2005, 2006, 2007, 2008,\n",
       "            2009, 2010, 2011, 2012, 2013, 2014, 2015, 2016, 2017, 2018, 2019],\n",
       "           dtype='int64', name='Date')"
      ]
     },
     "execution_count": 33,
     "metadata": {},
     "output_type": "execute_result"
    }
   ],
   "source": [
    "three_month_treasury.index.year.unique()"
   ]
  },
  {
   "cell_type": "code",
   "execution_count": 34,
   "metadata": {},
   "outputs": [],
   "source": [
    "crude_oil_futures = pd.read_csv(\"crude_oil_futures.csv\")"
   ]
  },
  {
   "cell_type": "code",
   "execution_count": 35,
   "metadata": {},
   "outputs": [
    {
     "data": {
      "text/html": [
       "<div>\n",
       "<style scoped>\n",
       "    .dataframe tbody tr th:only-of-type {\n",
       "        vertical-align: middle;\n",
       "    }\n",
       "\n",
       "    .dataframe tbody tr th {\n",
       "        vertical-align: top;\n",
       "    }\n",
       "\n",
       "    .dataframe thead th {\n",
       "        text-align: right;\n",
       "    }\n",
       "</style>\n",
       "<table border=\"1\" class=\"dataframe\">\n",
       "  <thead>\n",
       "    <tr style=\"text-align: right;\">\n",
       "      <th></th>\n",
       "      <th>Date</th>\n",
       "      <th>Open</th>\n",
       "      <th>High</th>\n",
       "      <th>Low</th>\n",
       "      <th>Last</th>\n",
       "      <th>Change</th>\n",
       "      <th>Settle</th>\n",
       "      <th>Volume</th>\n",
       "      <th>Previous Day Open Interest</th>\n",
       "    </tr>\n",
       "  </thead>\n",
       "  <tbody>\n",
       "    <tr>\n",
       "      <th>9199</th>\n",
       "      <td>2019-11-06</td>\n",
       "      <td>57.26</td>\n",
       "      <td>57.85</td>\n",
       "      <td>56.11</td>\n",
       "      <td>56.39</td>\n",
       "      <td>0.88</td>\n",
       "      <td>56.35</td>\n",
       "      <td>606612.0</td>\n",
       "      <td>396036.0</td>\n",
       "    </tr>\n",
       "    <tr>\n",
       "      <th>9200</th>\n",
       "      <td>2019-11-07</td>\n",
       "      <td>56.35</td>\n",
       "      <td>57.88</td>\n",
       "      <td>56.27</td>\n",
       "      <td>57.07</td>\n",
       "      <td>0.80</td>\n",
       "      <td>57.15</td>\n",
       "      <td>665028.0</td>\n",
       "      <td>371300.0</td>\n",
       "    </tr>\n",
       "    <tr>\n",
       "      <th>9201</th>\n",
       "      <td>2019-11-08</td>\n",
       "      <td>57.08</td>\n",
       "      <td>57.48</td>\n",
       "      <td>55.76</td>\n",
       "      <td>57.45</td>\n",
       "      <td>0.09</td>\n",
       "      <td>57.24</td>\n",
       "      <td>618762.0</td>\n",
       "      <td>352155.0</td>\n",
       "    </tr>\n",
       "    <tr>\n",
       "      <th>9202</th>\n",
       "      <td>2019-11-11</td>\n",
       "      <td>57.40</td>\n",
       "      <td>57.40</td>\n",
       "      <td>56.25</td>\n",
       "      <td>56.90</td>\n",
       "      <td>0.38</td>\n",
       "      <td>56.86</td>\n",
       "      <td>486317.0</td>\n",
       "      <td>317237.0</td>\n",
       "    </tr>\n",
       "    <tr>\n",
       "      <th>9203</th>\n",
       "      <td>2019-11-12</td>\n",
       "      <td>56.89</td>\n",
       "      <td>57.55</td>\n",
       "      <td>56.54</td>\n",
       "      <td>56.78</td>\n",
       "      <td>0.06</td>\n",
       "      <td>56.80</td>\n",
       "      <td>569382.0</td>\n",
       "      <td>280384.0</td>\n",
       "    </tr>\n",
       "  </tbody>\n",
       "</table>\n",
       "</div>"
      ],
      "text/plain": [
       "            Date   Open   High    Low   Last  Change  Settle    Volume  \\\n",
       "9199  2019-11-06  57.26  57.85  56.11  56.39    0.88   56.35  606612.0   \n",
       "9200  2019-11-07  56.35  57.88  56.27  57.07    0.80   57.15  665028.0   \n",
       "9201  2019-11-08  57.08  57.48  55.76  57.45    0.09   57.24  618762.0   \n",
       "9202  2019-11-11  57.40  57.40  56.25  56.90    0.38   56.86  486317.0   \n",
       "9203  2019-11-12  56.89  57.55  56.54  56.78    0.06   56.80  569382.0   \n",
       "\n",
       "      Previous Day Open Interest  \n",
       "9199                    396036.0  \n",
       "9200                    371300.0  \n",
       "9201                    352155.0  \n",
       "9202                    317237.0  \n",
       "9203                    280384.0  "
      ]
     },
     "execution_count": 35,
     "metadata": {},
     "output_type": "execute_result"
    }
   ],
   "source": [
    "crude_oil_futures.tail()\n",
    "#settle equals closing price for the day"
   ]
  },
  {
   "cell_type": "code",
   "execution_count": 36,
   "metadata": {},
   "outputs": [
    {
     "data": {
      "text/html": [
       "<div>\n",
       "<style scoped>\n",
       "    .dataframe tbody tr th:only-of-type {\n",
       "        vertical-align: middle;\n",
       "    }\n",
       "\n",
       "    .dataframe tbody tr th {\n",
       "        vertical-align: top;\n",
       "    }\n",
       "\n",
       "    .dataframe thead th {\n",
       "        text-align: right;\n",
       "    }\n",
       "</style>\n",
       "<table border=\"1\" class=\"dataframe\">\n",
       "  <thead>\n",
       "    <tr style=\"text-align: right;\">\n",
       "      <th></th>\n",
       "      <th>Open</th>\n",
       "      <th>High</th>\n",
       "      <th>Low</th>\n",
       "      <th>Last</th>\n",
       "      <th>Change</th>\n",
       "      <th>Settle</th>\n",
       "      <th>Volume</th>\n",
       "      <th>Previous Day Open Interest</th>\n",
       "    </tr>\n",
       "    <tr>\n",
       "      <th>Date</th>\n",
       "      <th></th>\n",
       "      <th></th>\n",
       "      <th></th>\n",
       "      <th></th>\n",
       "      <th></th>\n",
       "      <th></th>\n",
       "      <th></th>\n",
       "      <th></th>\n",
       "    </tr>\n",
       "  </thead>\n",
       "  <tbody>\n",
       "    <tr>\n",
       "      <th>2011-06-13</th>\n",
       "      <td>98.77</td>\n",
       "      <td>99.32</td>\n",
       "      <td>96.13</td>\n",
       "      <td>97.3</td>\n",
       "      <td>NaN</td>\n",
       "      <td>97.3</td>\n",
       "      <td>381993.0</td>\n",
       "      <td>189858.0</td>\n",
       "    </tr>\n",
       "  </tbody>\n",
       "</table>\n",
       "</div>"
      ],
      "text/plain": [
       "             Open   High    Low  Last  Change  Settle    Volume  \\\n",
       "Date                                                              \n",
       "2011-06-13  98.77  99.32  96.13  97.3     NaN    97.3  381993.0   \n",
       "\n",
       "            Previous Day Open Interest  \n",
       "Date                                    \n",
       "2011-06-13                    189858.0  "
      ]
     },
     "execution_count": 36,
     "metadata": {},
     "output_type": "execute_result"
    }
   ],
   "source": [
    "crude_oil_futures = set_date_index(crude_oil_futures)\n",
    "crude_oil_futures.sample()"
   ]
  },
  {
   "cell_type": "code",
   "execution_count": 37,
   "metadata": {},
   "outputs": [
    {
     "data": {
      "text/plain": [
       "(9204, 8)"
      ]
     },
     "execution_count": 37,
     "metadata": {},
     "output_type": "execute_result"
    }
   ],
   "source": [
    "crude_oil_futures.shape"
   ]
  },
  {
   "cell_type": "code",
   "execution_count": 39,
   "metadata": {},
   "outputs": [],
   "source": [
    "crude_oil_futures[\"daily_log_return_oil\"] = calculate_log_return(crude_oil_futures.Settle, crude_oil_futures.Open)\n",
    "crude_oil_futures[\"daily_return\"] = calculate_return(crude_oil_futures.Settle, crude_oil_futures.Open)"
   ]
  },
  {
   "cell_type": "code",
   "execution_count": 40,
   "metadata": {},
   "outputs": [
    {
     "data": {
      "text/html": [
       "<div>\n",
       "<style scoped>\n",
       "    .dataframe tbody tr th:only-of-type {\n",
       "        vertical-align: middle;\n",
       "    }\n",
       "\n",
       "    .dataframe tbody tr th {\n",
       "        vertical-align: top;\n",
       "    }\n",
       "\n",
       "    .dataframe thead th {\n",
       "        text-align: right;\n",
       "    }\n",
       "</style>\n",
       "<table border=\"1\" class=\"dataframe\">\n",
       "  <thead>\n",
       "    <tr style=\"text-align: right;\">\n",
       "      <th></th>\n",
       "      <th>Open</th>\n",
       "      <th>High</th>\n",
       "      <th>Low</th>\n",
       "      <th>Last</th>\n",
       "      <th>Change</th>\n",
       "      <th>Settle</th>\n",
       "      <th>Volume</th>\n",
       "      <th>Previous Day Open Interest</th>\n",
       "      <th>daily_log_return_oil</th>\n",
       "      <th>daily_return</th>\n",
       "    </tr>\n",
       "    <tr>\n",
       "      <th>Date</th>\n",
       "      <th></th>\n",
       "      <th></th>\n",
       "      <th></th>\n",
       "      <th></th>\n",
       "      <th></th>\n",
       "      <th></th>\n",
       "      <th></th>\n",
       "      <th></th>\n",
       "      <th></th>\n",
       "      <th></th>\n",
       "    </tr>\n",
       "  </thead>\n",
       "  <tbody>\n",
       "    <tr>\n",
       "      <th>2002-10-29</th>\n",
       "      <td>27.25</td>\n",
       "      <td>27.35</td>\n",
       "      <td>26.8</td>\n",
       "      <td>26.86</td>\n",
       "      <td>NaN</td>\n",
       "      <td>26.86</td>\n",
       "      <td>70205.0</td>\n",
       "      <td>151093.0</td>\n",
       "      <td>-1.441533</td>\n",
       "      <td>-1.431193</td>\n",
       "    </tr>\n",
       "  </tbody>\n",
       "</table>\n",
       "</div>"
      ],
      "text/plain": [
       "             Open   High   Low   Last  Change  Settle   Volume  \\\n",
       "Date                                                             \n",
       "2002-10-29  27.25  27.35  26.8  26.86     NaN   26.86  70205.0   \n",
       "\n",
       "            Previous Day Open Interest  daily_log_return_oil  daily_return  \n",
       "Date                                                                        \n",
       "2002-10-29                    151093.0             -1.441533     -1.431193  "
      ]
     },
     "execution_count": 40,
     "metadata": {},
     "output_type": "execute_result"
    }
   ],
   "source": [
    "crude_oil_futures.sample()"
   ]
  },
  {
   "cell_type": "code",
   "execution_count": null,
   "metadata": {},
   "outputs": [],
   "source": [
    "#since we don't need such a big timeframe it is time to cut\n",
    "#do not need this because I will drop all na values when I concat the tables.\n",
    "#don't forget the shift() after you leave the data that you want. then remove the nan row\n",
    "#explain holidays and the timeframe\n",
    "#three_month_treasury = three_month_treasury.loc[three_month_treasury.index > '1986-03-12']"
   ]
  },
  {
   "cell_type": "markdown",
   "metadata": {},
   "source": [
    "The above list does not look good. But after observation of the dates thing got more clearer. The dates are different holidays in the us. It looks like the U.S. Treasury is having a bit different holiday schedule than the Stock Exchange. So it is possible to have rates from one or the other. For this reason the best choice here will be to remove the holiday rows.\n",
    "\n",
    "**TODO**: The final data that I will use - put it in separate dataframe - this includes returns, volume, oil, eventually currencies\n",
    "\n",
    "**TODO**: *do it after you merge all preprocessed data into one dataframe*"
   ]
  },
  {
   "cell_type": "code",
   "execution_count": null,
   "metadata": {},
   "outputs": [],
   "source": [
    "#three_month_treasury.shape, msft_data.shape, spy_500.shape, nasdaq.shape"
   ]
  },
  {
   "cell_type": "code",
   "execution_count": null,
   "metadata": {},
   "outputs": [],
   "source": [
    "#concat tbill and msft\n",
    "#df = pd.concat([three_month_treasury, msft_data], axis = 1)"
   ]
  },
  {
   "cell_type": "code",
   "execution_count": null,
   "metadata": {},
   "outputs": [],
   "source": [
    "#df.dropna(inplace = true) - the way to remove my data\n",
    "#df1 = df[df.isna().any(axis=1)]"
   ]
  },
  {
   "cell_type": "code",
   "execution_count": null,
   "metadata": {},
   "outputs": [],
   "source": [
    "#df1.count()"
   ]
  },
  {
   "cell_type": "code",
   "execution_count": null,
   "metadata": {},
   "outputs": [],
   "source": [
    "#Plot dickey fuller for close prices and for return to make comparison and see if you need to make new data stationary\n",
    "#Explain why returns not prices - because of the stationary shit\n",
    "#Put the photo from Svetlio and the citations in the project\n",
    "#Then when everything is stationary calculate the excess return on the stock. This will be the forecasted value\n",
    "\n",
    "#Nasdaq, SPY and Volume will be predictors\n",
    "#Add currency, commodities\n"
   ]
  },
  {
   "cell_type": "code",
   "execution_count": null,
   "metadata": {},
   "outputs": [],
   "source": [
    "#Жужи код\n",
    "#for feature in data_train.columns:\n",
    "    \n",
    "#    result = adfuller(pd.concat([data_train[feature], data_test[feature]]))\n",
    "    \n",
    "#    print(feature)\n",
    "#    print('ADF Statistic: %f' % result[0])\n",
    "#    print('p-value: %f' % result[1])\n",
    "#    print('Critical Values:')\n",
    "#    for key, value in result[4].items():\n",
    "#        print('\\t%s: %.3f' % (key, value))"
   ]
  },
  {
   "cell_type": "code",
   "execution_count": null,
   "metadata": {},
   "outputs": [],
   "source": [
    "#isBusinessDay = BDay().onOffset\n",
    "#business_days_check = pd.to_datetime(df.index).map(isBusinessDay)\n",
    "#business_days_check.shape\n",
    "#business_days_check.unique()"
   ]
  },
  {
   "cell_type": "markdown",
   "metadata": {},
   "source": [
    "#### Add S&P500 and Nasdaq - check which column\n",
    "#### Add 3-month t-bill\n",
    "#### Calculate the return\n",
    "#### Plot the data to explore it further for trends, seasonality. The data should be stationary for our algorithms. It will be important to remove trends and seasonality before fitting the models.\n",
    "##### I will then scale the data for more convenience, split it , apply gridcsearch and test models."
   ]
  },
  {
   "cell_type": "markdown",
   "metadata": {},
   "source": [
    "We can clearly see that there is an upward trend (especially after 2012) in the price of Microsoft stock over time. Due to the long period and the limitations of the plot above I cannot identify seasonality just by looking at the plot. But since this is not just guess work, I will apply some calculations to identify and remove trends and seasonality from my data.\n",
    "#### To-do! Explain all about stationarity, and removing trends.\n",
    "##### The idea - Make the data time independent (as much as possible). Make it stationary"
   ]
  },
  {
   "cell_type": "code",
   "execution_count": null,
   "metadata": {},
   "outputs": [],
   "source": [
    "test_stationarity(msft_data.close)"
   ]
  },
  {
   "cell_type": "code",
   "execution_count": null,
   "metadata": {},
   "outputs": [],
   "source": [
    "test_stationarity(msft_data.daily_log_return_msft)"
   ]
  },
  {
   "cell_type": "markdown",
   "metadata": {},
   "source": [
    "The null hypothesis of the Augmented Dickey-Fuller is that there is a unit root, with the alternative that there is no unit root. If the pvalue is above a critical size, then we cannot reject that there is a unit root. **read again about that**\n",
    "\n",
    "Here the null hypothesis is that the TS is non-stationary. The test results comprise of a Test Statistic and some Critical Values for difference confidence levels. If the ‘Test Statistic’ is less than the ‘Critical Value’, we can reject the null hypothesis and say that the series is stationary."
   ]
  },
  {
   "cell_type": "markdown",
   "metadata": {},
   "source": [
    "**!Pipeline, Pickle**\n",
    "\n",
    "**lags for the time, to make it independent!**\n",
    "\n",
    "**forecasting**\n",
    "\n",
    "**based on what forecasting** - check and sklearn offerings\n",
    "\n",
    "**unsupervised learning - you can do Nothing :D, or some other metrics  - linked to clustering if I use it or bring it to supervised learning**\n",
    "\n",
    "***think of different types of scalers, which one to use, or check several***\n",
    "\n",
    "check how to make stratified sample in Python\n",
    "\n",
    "try to show and analyze all possible information from the data. What can I extract from it?\n",
    "\n",
    "### Check paper \"Regime Switching in Stock Market Returns\"\n",
    "#### Maybe to expand my project in future...\n",
    "\n"
   ]
  },
  {
   "cell_type": "code",
   "execution_count": null,
   "metadata": {},
   "outputs": [],
   "source": []
  }
 ],
 "metadata": {
  "kernelspec": {
   "display_name": "Python 3",
   "language": "python",
   "name": "python3"
  },
  "language_info": {
   "codemirror_mode": {
    "name": "ipython",
    "version": 3
   },
   "file_extension": ".py",
   "mimetype": "text/x-python",
   "name": "python",
   "nbconvert_exporter": "python",
   "pygments_lexer": "ipython3",
   "version": "3.7.3"
  }
 },
 "nbformat": 4,
 "nbformat_minor": 2
}
